{
 "cells": [
  {
   "cell_type": "markdown",
   "id": "bd6402ec-0cd9-4f5a-ae40-55a0e0fcf245",
   "metadata": {
    "tags": []
   },
   "source": [
    "# PDA data science - Dashboards\n",
    "<div class=\"alert alert-block alert-info\"> \n",
    "    Notebook 9: by michael.ferrie@edinburghcollege.ac.uk <br> Edinburgh College, April 2022\n",
    "</div>"
   ]
  },
  {
   "cell_type": "markdown",
   "id": "11e6ec60-3d0e-4e71-8623-79a3ee0ff9bf",
   "metadata": {},
   "source": [
    "## Introduction\n",
    "\n",
    "![**Voila Logo**](data:image/png;base64,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)\n",
    "\n",
    "A dashboard is a type of graphical user interface which often provides at-a-glance views of key performance indicators (KPIs) relevant to a particular objective or business process. In other usage, _dashboard_ is another name for \"progress report\" or \"report\" and considered a form of data visualization. The dashboard is often accessible by a web browser and is usually linked to regularly updating data sources. \n",
    "\n",
    "The term dashboard originates from the automotive dashboard where drivers monitor the major functions at a glance via the instrument panel. We can use a dashboard to convey information about data that we are looking to present. In this notebook we will look at how we can convert a notebook into a dashboard.\n",
    "\n",
    "## Installation - Linux / MacOS\n",
    "\n",
    "Download and [install Node.js](https://nodejs.org/en/download/) for your system, the LTS version will be fine. Download and run the installer for Macs, on Linux install using your package manager.\n",
    "\n",
    "The first thing we need is to install the `viola` library, in your terminal run the following:\n",
    "\n",
    "`pip install voila`\n",
    "\n",
    "Once this has installed, run the JupyterLab extension installation for voilà in the same terminal:\n",
    "\n",
    "`jupyter labextension install @voila-dashboards/jupyterlab-preview`\n",
    "\n",
    "We will also need the `bqplot` library for this task:\n",
    "\n",
    "`pip install bqplot`\n",
    "\n",
    "It would be a good idea to stop and restart Jupyter at this point to ensure that the libraries have loaded.\n",
    "\n",
    "## Installation - Windows\n",
    "\n",
    "Download and [install Node.js](https://nodejs.org/en/download/) the Windows installer, the LTS version will be fine. Once the installer starts, tick the box to 'automatically install necessary tools. This will take a few minutes to run.\n",
    "\n",
    "The Node.js installation will likely break your installation of pip, so rebuild pip. Open the cmd shell with windows key + r and enter `cmd` into the run box, upgrade pip with the following command:\n",
    "\n",
    "`python -m ensurepip --upgrade`\n",
    "\n",
    "Upgrade JupyterLab:\n",
    "\n",
    "`python -m pip install -U jupyterlab`\n",
    "\n",
    "Install Voila and BQPlot\n",
    "\n",
    "`python -m pip install voila`\n",
    "`python -m pip install bqplot`\n",
    "\n",
    "Now reboot Windows, once it has restarted, launch re-launch JupyterLab\n",
    "\n",
    "## Voilà\n",
    "\n",
    "Voilà turns Jupyter notebooks into standalone web applications.\n",
    "\n",
    "Unlike the usual HTML-converted notebooks, each user connecting to the Voilà tornado application gets a dedicated Jupyter kernel which can execute the callbacks to changes in Jupyter interactive widgets.\n",
    "\n",
    "* By default, Voilà disallows execute requests from the front-end, preventing execution of arbitrary code.\n",
    "* By default, Voilà runs with the strip_source option, which strips out the input cells from the rendered notebook.Voilà turns Jupyter notebooks into standalone web applications.\n",
    "\n",
    "Unlike the usual HTML-converted notebooks, each user connecting to the Voilà tornado application gets a dedicated Jupyter kernel which can execute the callbacks to changes in Jupyter interactive widgets. By default, Voilà disallows execute requests from the front-end, preventing execution of arbitrary code.\n",
    "\n",
    "By default, Voilà runs with the strip_source option, which strips out the input cells from the rendered notebook.\n",
    "\n",
    "Run the code in the next cell to generate a very simple plot."
   ]
  },
  {
   "cell_type": "code",
   "execution_count": 10,
   "id": "39d9dc04-5a1b-477b-a353-0ccc32a64851",
   "metadata": {},
   "outputs": [
    {
     "data": {
      "image/png": "[encoded data removed]",
      "text/plain": [
       "<Figure size 432x288 with 1 Axes>"
      ]
     },
     "metadata": {
      "needs_background": "light"
     },
     "output_type": "display_data"
    }
   ],
   "source": [
    "# import pyplot\n",
    "import matplotlib.pyplot as plt\n",
    "\n",
    "# create two lists\n",
    "x = [1, 2, 3, 4]\n",
    "y = [8, 13, 21, 30]\n",
    "\n",
    "# plot\n",
    "plt.plot(x, y)\n",
    "plt.show()"
   ]
  },
  {
   "cell_type": "markdown",
   "id": "8aae292f-3a4b-4e19-a496-445f38e61c6a",
   "metadata": {},
   "source": [
    "You may have already noticed that there is a new button at the top of the window for voilà, next to the play, stop reload, fast forward buttons. To the the left of the Markdown/Code/Raw drop down menu, click on this button to launch the dashboard extension.\n",
    "![Extension Button](https://michaelferrie.com/labs/voila.gif)\n",
    "\n",
    "There are many more examples of plot types in the [matplotlib](https://matplotlib.org/stable/gallery/index.html) documentation."
   ]
  },
  {
   "cell_type": "markdown",
   "id": "8331a979-5732-45e0-9c17-087b6391838b",
   "metadata": {},
   "source": [
    "## Dashboard concepts\n",
    "\n",
    "Notice that when you run the code, the code itself does not show on the dashboard, that is because the code is considered _input_ the dashboard only displays the result of the code, the _output_.\n",
    "\n",
    "What we do see is the related markdown where we can have explanations and descriptions of code. If we want to add code snippets to the dashboard we can do this in a couple of ways.\n",
    "\n",
    "We could add the code to a markdown cell using the Github markdown syntax as shown here. You can use triple backticks followed by the language (in our case python) for code blocks.\n",
    "\n",
    "```python\n",
    "print \"Hello World\"\n",
    "```\n",
    "\n",
    "Formatting markdown is quite an extensive topic there is a [cheat sheet](https://www.ibm.com/docs/en/watson-studio-local/1.2.3?topic=notebooks-markdown-jupyter-cheatsheet) on how to do headings, italics, lists created by IBM. It would be a good to review this and bookmark it for reference. There is a good [guide to markdown](https://github.com/uc-data-services/elag2016-jupyter-jumpstart/blob/gh-pages/Markdown%20101.md) [view it raw](https://raw.githubusercontent.com/uc-data-services/elag2016-jupyter-jumpstart/gh-pages/Markdown%20101.md) to see the code. \n",
    "\n",
    "\n",
    "## Example notebooks\n",
    "\n",
    "There are some [example Jupyter notebooks](https://github.com/voila-dashboards/voila/tree/main/notebooks) for making dashboards."
   ]
  },
  {
   "cell_type": "markdown",
   "id": "92c9e301-b143-4074-990b-a47aa272f1a9",
   "metadata": {},
   "source": [
    "# Build a dashboard\n",
    "\n",
    "Complete the following tasks to create your own dashboard.\n",
    "\n",
    "1. In JupyterLab click the file menu and then choose New > Notebook. Name the notebook `dashboard-test`. Choose the python 3 kernel if you are asked which kernel you would like to use. Click the `+` icon to add a new cell in the first markdown cell put your name and today's date. [Guidance on working with cells](https://jupyterlab.readthedocs.io/en/stable/user/notebook.htmlhttps://jupyterlab.readthedocs.io/en/stable/user/notebook.html).\n",
    "\n",
    "2. Add a second markdown cell and add a level 1 heading that reads, __Example Dashboard__\n",
    "\n",
    "3. Go to the [matplotlib examples](https://matplotlib.org/stable/gallery/index.html) gallery and pick any 3 example plots, pick ones that you think look interesting, there are loads of examples.\n",
    "\n",
    "4. Add a markdown cell and a code cell to the notebook for each of the plots. Add the three plots to the notebook.\n",
    "\n",
    "5. Using the markdown cells above each of the plots add an explanation of what the plot shows, you can likely just copy this from the examples gallery. Format the markdown, making use of headings where appropriate.\n",
    "\n",
    "6. Use the JupyterLab Voilà button to convert your notebook to a Dashboard, check for any mistakes in the formatting.\n",
    "\n",
    "7. In the address bar of your web browser you will notice that JupyterLab runs on a web address with `... :8888/lab/tree ...` then the path you your file. Modify the URL to the following `... :8888/voila` as [explained here](https://voila.readthedocs.io/en/stable/using.htmlhttps://voila.readthedocs.io/en/stable/using.html). For example, if your JupyterLab and was running at http://localhost:8888/lab, then Voilà would be accessed at http://localhost:8888/voila.\n",
    "\n",
    "8. Navigate to the path to your `dashboard-test.ipynb` notebook on your machine, and voila should open the dashboard in the full browser window, if everything looks good, then we are ready to deploy."
   ]
  },
  {
   "cell_type": "markdown",
   "id": "089f9cf5-3c76-4077-97cf-2dd433b5a72d",
   "metadata": {},
   "source": [
    "# Deploy with GitHub\n",
    "\n",
    "Now that we can create a Dashboard we can turn this into a web application from our notebooks, the next step is to set up GitHub. If you already have a GitHub account then skip ahead to the _Create a repo_ step.\n",
    "\n",
    "Go to [this page](https://github.com/join) and sign up for a free GitHub account. You can either use your real name or some kind of internet handle. I use my [real name](https://github.com/michaelferrie), have a look. You may want to add this to your CV in future for a potential employer in future so it is good to keep it professional. \n",
    "\n",
    "You can think of GitHub as your cloud storage for code. I would advise backing your main code folder here to a private repo.\n",
    "\n",
    "## Create a repo\n",
    "\n",
    "Once you have signed into GitHub, we are going to create a new __public__ repository where we can store this notebook. Go to [https://github.com/new](https://github.com/new) and call this. `my-first-binder`, make sure you tick the box to add a README file.\n",
    "\n",
    "![Repo](https://michaelferrie.com/labs/create-repo-binder.png)"
   ]
  },
  {
   "cell_type": "markdown",
   "id": "6deb8814-d5b2-4150-8a19-42538757f45e",
   "metadata": {},
   "source": [
    "## Set up requirements\n",
    "\n",
    "We are going to deploy the dashboard to the public internet we need to add an environment file to the repository. In the repo create a new file called `environment.yml` and paste in the following text.\n",
    "\n",
    "```sh\n",
    "name: dashboard-test\n",
    "channels:\n",
    "- conda-forge\n",
    "dependencies:\n",
    "- matplotlib-base\n",
    "- pandas\n",
    "- ipywidgets\n",
    "- jupyterlab>=3.1\n",
    "- voila>=0.2.11\n",
    "```\n",
    "\n",
    "The file should look like this on GitHub:\n",
    "\n",
    "![env-yml](https://michaelferrie.com/labs/envir-yml.png)\n",
    "\n",
    "Finally upload your `dashboard-test.ipynb` file to the repository. Just click on add file and upload the notebook."
   ]
  },
  {
   "cell_type": "markdown",
   "id": "64ab7ab1-b023-465e-8f2a-d081adfdcedf",
   "metadata": {},
   "source": [
    "## Binder\n",
    "\n",
    "The Binder project offers an easy place to share computing environments to everyone. It allows users to specify custom environments and share them with a single link. Use cases involve workshops, scientific workflows and streamline sharing among teams.\n",
    "\n",
    "Now we are going to deploy the dashboard with binder. Open a new tab in your browser and go to [https://mybinder.org/](https://mybinder.org/).\n",
    "\n",
    "All we need to do is provide the path to the repository in the GitHub box, swapping the word USERNAME for your username on GitHub. \n",
    "\n",
    "`https://github.com/USERNAME/my-first-binder`\n",
    "\n",
    "Then in the URL box we write `/voila/render/dashboard-test.ipynb`\n",
    "\n",
    "![binder](https://michaelferrie.com/labs/binder-settings.png)\n",
    "\n",
    "Then we can share the URL of the dashboard with anyone.\n",
    "\n",
    "# Final task\n",
    "\n",
    "Edit your `dashboard-test.ipynb` file on your local machine and add a new markdown cell to the end of the notebook, add a link to your `my-first-binder` repo to the notebook and upload the completed notebook to Moodle."
   ]
  }
 ],
 "metadata": {
  "kernelspec": {
   "display_name": "Python 3 (ipykernel)",
   "language": "python",
   "name": "python3"
  },
  "language_info": {
   "codemirror_mode": {
    "name": "ipython",
    "version": 3
   },
   "file_extension": ".py",
   "mimetype": "text/x-python",
   "name": "python",
   "nbconvert_exporter": "python",
   "pygments_lexer": "ipython3",
   "version": "3.9.2"
  },
  "toc-autonumbering": true
 },
 "nbformat": 4,
 "nbformat_minor": 5
}
